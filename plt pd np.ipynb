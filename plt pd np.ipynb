{
 "cells": [
  {
   "cell_type": "markdown",
   "metadata": {},
   "source": [
    "# Data manipulation and visualization using Pandas and Matplotlib"
   ]
  },
  {
   "cell_type": "markdown",
   "metadata": {},
   "source": [
    "## 1. Data loading "
   ]
  },
  {
   "cell_type": "markdown",
   "metadata": {},
   "source": [
    "### 1.1. Panda Libraries - options & versions"
   ]
  },
  {
   "cell_type": "code",
   "execution_count": 1,
   "metadata": {},
   "outputs": [
    {
     "name": "stdout",
     "output_type": "stream",
     "text": [
      "0.20.3\n"
     ]
    }
   ],
   "source": [
    "import pandas\n",
    "\n",
    "# Edit lines displayed amount\n",
    "pandas.options.display.max_rows =10\n",
    "\n",
    "# Version check\n",
    "print(pandas.__version__)"
   ]
  },
  {
   "cell_type": "markdown",
   "metadata": {},
   "source": [
    "### 1.2. Dataframe Structure"
   ]
  },
  {
   "cell_type": "code",
   "execution_count": 2,
   "metadata": {},
   "outputs": [
    {
     "ename": "FileNotFoundError",
     "evalue": "[Errno 2] No such file or directory: 'your_file.txt'",
     "output_type": "error",
     "traceback": [
      "\u001b[1;31m---------------------------------------------------------------------------\u001b[0m",
      "\u001b[1;31mFileNotFoundError\u001b[0m                         Traceback (most recent call last)",
      "Cell \u001b[1;32mIn[2], line 4\u001b[0m\n\u001b[0;32m      1\u001b[0m \u001b[39mimport\u001b[39;00m \u001b[39mpandas\u001b[39;00m\n\u001b[0;32m      3\u001b[0m \u001b[39m# File loading\u001b[39;00m\n\u001b[1;32m----> 4\u001b[0m df \u001b[39m=\u001b[39m pandas\u001b[39m.\u001b[39;49mread_table(\u001b[39m\"\u001b[39;49m\u001b[39myour_file.txt\u001b[39;49m\u001b[39m\"\u001b[39;49m, sep \u001b[39m=\u001b[39;49m\u001b[39m'\u001b[39;49m\u001b[39m\\t\u001b[39;49;00m\u001b[39m'\u001b[39;49m,  header\u001b[39m=\u001b[39;49m\u001b[39m0\u001b[39;49m)\n\u001b[0;32m      6\u001b[0m \u001b[39m# Make sure it's a dataframe\u001b[39;00m\n\u001b[0;32m      7\u001b[0m \u001b[39mprint\u001b[39m(\u001b[39mtype\u001b[39m(df))\n",
      "File \u001b[1;32mc:\\Users\\hxpul\\AppData\\Local\\Programs\\Python\\Python311\\Lib\\site-packages\\pandas\\io\\parsers\\readers.py:1242\u001b[0m, in \u001b[0;36mread_table\u001b[1;34m(filepath_or_buffer, sep, delimiter, header, names, index_col, usecols, dtype, engine, converters, true_values, false_values, skipinitialspace, skiprows, skipfooter, nrows, na_values, keep_default_na, na_filter, verbose, skip_blank_lines, parse_dates, infer_datetime_format, keep_date_col, date_parser, date_format, dayfirst, cache_dates, iterator, chunksize, compression, thousands, decimal, lineterminator, quotechar, quoting, doublequote, escapechar, comment, encoding, encoding_errors, dialect, on_bad_lines, delim_whitespace, low_memory, memory_map, float_precision, storage_options, dtype_backend)\u001b[0m\n\u001b[0;32m   1229\u001b[0m kwds_defaults \u001b[39m=\u001b[39m _refine_defaults_read(\n\u001b[0;32m   1230\u001b[0m     dialect,\n\u001b[0;32m   1231\u001b[0m     delimiter,\n\u001b[1;32m   (...)\u001b[0m\n\u001b[0;32m   1238\u001b[0m     dtype_backend\u001b[39m=\u001b[39mdtype_backend,\n\u001b[0;32m   1239\u001b[0m )\n\u001b[0;32m   1240\u001b[0m kwds\u001b[39m.\u001b[39mupdate(kwds_defaults)\n\u001b[1;32m-> 1242\u001b[0m \u001b[39mreturn\u001b[39;00m _read(filepath_or_buffer, kwds)\n",
      "File \u001b[1;32mc:\\Users\\hxpul\\AppData\\Local\\Programs\\Python\\Python311\\Lib\\site-packages\\pandas\\io\\parsers\\readers.py:577\u001b[0m, in \u001b[0;36m_read\u001b[1;34m(filepath_or_buffer, kwds)\u001b[0m\n\u001b[0;32m    574\u001b[0m _validate_names(kwds\u001b[39m.\u001b[39mget(\u001b[39m\"\u001b[39m\u001b[39mnames\u001b[39m\u001b[39m\"\u001b[39m, \u001b[39mNone\u001b[39;00m))\n\u001b[0;32m    576\u001b[0m \u001b[39m# Create the parser.\u001b[39;00m\n\u001b[1;32m--> 577\u001b[0m parser \u001b[39m=\u001b[39m TextFileReader(filepath_or_buffer, \u001b[39m*\u001b[39;49m\u001b[39m*\u001b[39;49mkwds)\n\u001b[0;32m    579\u001b[0m \u001b[39mif\u001b[39;00m chunksize \u001b[39mor\u001b[39;00m iterator:\n\u001b[0;32m    580\u001b[0m     \u001b[39mreturn\u001b[39;00m parser\n",
      "File \u001b[1;32mc:\\Users\\hxpul\\AppData\\Local\\Programs\\Python\\Python311\\Lib\\site-packages\\pandas\\io\\parsers\\readers.py:1407\u001b[0m, in \u001b[0;36mTextFileReader.__init__\u001b[1;34m(self, f, engine, **kwds)\u001b[0m\n\u001b[0;32m   1404\u001b[0m     \u001b[39mself\u001b[39m\u001b[39m.\u001b[39moptions[\u001b[39m\"\u001b[39m\u001b[39mhas_index_names\u001b[39m\u001b[39m\"\u001b[39m] \u001b[39m=\u001b[39m kwds[\u001b[39m\"\u001b[39m\u001b[39mhas_index_names\u001b[39m\u001b[39m\"\u001b[39m]\n\u001b[0;32m   1406\u001b[0m \u001b[39mself\u001b[39m\u001b[39m.\u001b[39mhandles: IOHandles \u001b[39m|\u001b[39m \u001b[39mNone\u001b[39;00m \u001b[39m=\u001b[39m \u001b[39mNone\u001b[39;00m\n\u001b[1;32m-> 1407\u001b[0m \u001b[39mself\u001b[39m\u001b[39m.\u001b[39m_engine \u001b[39m=\u001b[39m \u001b[39mself\u001b[39;49m\u001b[39m.\u001b[39;49m_make_engine(f, \u001b[39mself\u001b[39;49m\u001b[39m.\u001b[39;49mengine)\n",
      "File \u001b[1;32mc:\\Users\\hxpul\\AppData\\Local\\Programs\\Python\\Python311\\Lib\\site-packages\\pandas\\io\\parsers\\readers.py:1661\u001b[0m, in \u001b[0;36mTextFileReader._make_engine\u001b[1;34m(self, f, engine)\u001b[0m\n\u001b[0;32m   1659\u001b[0m     \u001b[39mif\u001b[39;00m \u001b[39m\"\u001b[39m\u001b[39mb\u001b[39m\u001b[39m\"\u001b[39m \u001b[39mnot\u001b[39;00m \u001b[39min\u001b[39;00m mode:\n\u001b[0;32m   1660\u001b[0m         mode \u001b[39m+\u001b[39m\u001b[39m=\u001b[39m \u001b[39m\"\u001b[39m\u001b[39mb\u001b[39m\u001b[39m\"\u001b[39m\n\u001b[1;32m-> 1661\u001b[0m \u001b[39mself\u001b[39m\u001b[39m.\u001b[39mhandles \u001b[39m=\u001b[39m get_handle(\n\u001b[0;32m   1662\u001b[0m     f,\n\u001b[0;32m   1663\u001b[0m     mode,\n\u001b[0;32m   1664\u001b[0m     encoding\u001b[39m=\u001b[39;49m\u001b[39mself\u001b[39;49m\u001b[39m.\u001b[39;49moptions\u001b[39m.\u001b[39;49mget(\u001b[39m\"\u001b[39;49m\u001b[39mencoding\u001b[39;49m\u001b[39m\"\u001b[39;49m, \u001b[39mNone\u001b[39;49;00m),\n\u001b[0;32m   1665\u001b[0m     compression\u001b[39m=\u001b[39;49m\u001b[39mself\u001b[39;49m\u001b[39m.\u001b[39;49moptions\u001b[39m.\u001b[39;49mget(\u001b[39m\"\u001b[39;49m\u001b[39mcompression\u001b[39;49m\u001b[39m\"\u001b[39;49m, \u001b[39mNone\u001b[39;49;00m),\n\u001b[0;32m   1666\u001b[0m     memory_map\u001b[39m=\u001b[39;49m\u001b[39mself\u001b[39;49m\u001b[39m.\u001b[39;49moptions\u001b[39m.\u001b[39;49mget(\u001b[39m\"\u001b[39;49m\u001b[39mmemory_map\u001b[39;49m\u001b[39m\"\u001b[39;49m, \u001b[39mFalse\u001b[39;49;00m),\n\u001b[0;32m   1667\u001b[0m     is_text\u001b[39m=\u001b[39;49mis_text,\n\u001b[0;32m   1668\u001b[0m     errors\u001b[39m=\u001b[39;49m\u001b[39mself\u001b[39;49m\u001b[39m.\u001b[39;49moptions\u001b[39m.\u001b[39;49mget(\u001b[39m\"\u001b[39;49m\u001b[39mencoding_errors\u001b[39;49m\u001b[39m\"\u001b[39;49m, \u001b[39m\"\u001b[39;49m\u001b[39mstrict\u001b[39;49m\u001b[39m\"\u001b[39;49m),\n\u001b[0;32m   1669\u001b[0m     storage_options\u001b[39m=\u001b[39;49m\u001b[39mself\u001b[39;49m\u001b[39m.\u001b[39;49moptions\u001b[39m.\u001b[39;49mget(\u001b[39m\"\u001b[39;49m\u001b[39mstorage_options\u001b[39;49m\u001b[39m\"\u001b[39;49m, \u001b[39mNone\u001b[39;49;00m),\n\u001b[0;32m   1670\u001b[0m )\n\u001b[0;32m   1671\u001b[0m \u001b[39massert\u001b[39;00m \u001b[39mself\u001b[39m\u001b[39m.\u001b[39mhandles \u001b[39mis\u001b[39;00m \u001b[39mnot\u001b[39;00m \u001b[39mNone\u001b[39;00m\n\u001b[0;32m   1672\u001b[0m f \u001b[39m=\u001b[39m \u001b[39mself\u001b[39m\u001b[39m.\u001b[39mhandles\u001b[39m.\u001b[39mhandle\n",
      "File \u001b[1;32mc:\\Users\\hxpul\\AppData\\Local\\Programs\\Python\\Python311\\Lib\\site-packages\\pandas\\io\\common.py:859\u001b[0m, in \u001b[0;36mget_handle\u001b[1;34m(path_or_buf, mode, encoding, compression, memory_map, is_text, errors, storage_options)\u001b[0m\n\u001b[0;32m    854\u001b[0m \u001b[39melif\u001b[39;00m \u001b[39misinstance\u001b[39m(handle, \u001b[39mstr\u001b[39m):\n\u001b[0;32m    855\u001b[0m     \u001b[39m# Check whether the filename is to be opened in binary mode.\u001b[39;00m\n\u001b[0;32m    856\u001b[0m     \u001b[39m# Binary mode does not support 'encoding' and 'newline'.\u001b[39;00m\n\u001b[0;32m    857\u001b[0m     \u001b[39mif\u001b[39;00m ioargs\u001b[39m.\u001b[39mencoding \u001b[39mand\u001b[39;00m \u001b[39m\"\u001b[39m\u001b[39mb\u001b[39m\u001b[39m\"\u001b[39m \u001b[39mnot\u001b[39;00m \u001b[39min\u001b[39;00m ioargs\u001b[39m.\u001b[39mmode:\n\u001b[0;32m    858\u001b[0m         \u001b[39m# Encoding\u001b[39;00m\n\u001b[1;32m--> 859\u001b[0m         handle \u001b[39m=\u001b[39m \u001b[39mopen\u001b[39;49m(\n\u001b[0;32m    860\u001b[0m             handle,\n\u001b[0;32m    861\u001b[0m             ioargs\u001b[39m.\u001b[39;49mmode,\n\u001b[0;32m    862\u001b[0m             encoding\u001b[39m=\u001b[39;49mioargs\u001b[39m.\u001b[39;49mencoding,\n\u001b[0;32m    863\u001b[0m             errors\u001b[39m=\u001b[39;49merrors,\n\u001b[0;32m    864\u001b[0m             newline\u001b[39m=\u001b[39;49m\u001b[39m\"\u001b[39;49m\u001b[39m\"\u001b[39;49m,\n\u001b[0;32m    865\u001b[0m         )\n\u001b[0;32m    866\u001b[0m     \u001b[39melse\u001b[39;00m:\n\u001b[0;32m    867\u001b[0m         \u001b[39m# Binary mode\u001b[39;00m\n\u001b[0;32m    868\u001b[0m         handle \u001b[39m=\u001b[39m \u001b[39mopen\u001b[39m(handle, ioargs\u001b[39m.\u001b[39mmode)\n",
      "\u001b[1;31mFileNotFoundError\u001b[0m: [Errno 2] No such file or directory: 'your_file.txt'"
     ]
    }
   ],
   "source": [
    "import pandas\n",
    "\n",
    "# File loading\n",
    "df = pandas.read_table(\"your_file.txt\", sep ='\\t',  header=0)\n",
    "\n",
    "# Make sure it's a dataframe\n",
    "print(type(df))\n",
    "\n",
    "# Display the dataframe first lines\n",
    "# df.head()\n",
    "\n",
    "# Number lines + columns\n",
    "# print(df.shape)\n",
    "\n",
    "# Columns type\n",
    "# print(df.dtypes)\n",
    "\n",
    "# Data description\n",
    "# df.describe(include='all')"
   ]
  },
  {
   "cell_type": "markdown",
   "metadata": {},
   "source": [
    "## 2. Variables manipulation"
   ]
  },
  {
   "cell_type": "markdown",
   "metadata": {},
   "source": [
    "### 2.1. Variables access"
   ]
  },
  {
   "cell_type": "code",
   "execution_count": 14,
   "metadata": {},
   "outputs": [
    {
     "name": "stdout",
     "output_type": "stream",
     "text": [
      "count    270.000000\n",
      "mean      54.433333\n",
      "std        9.109067\n",
      "min       29.000000\n",
      "25%       48.000000\n",
      "50%       55.000000\n",
      "75%       61.000000\n",
      "max       77.000000\n",
      "Name: age, dtype: float64\n"
     ]
    }
   ],
   "source": [
    "import pandas\n",
    "\n",
    "# File loading\n",
    "df = pandas.read_table(\"your_file.txt\", sep ='\\t',  header=0)\n",
    "\n",
    "# Variable description \n",
    "print(df.var.describe())\n",
    "\n",
    "# Variable mean\n",
    "# print(df.var.mean())\n",
    "\n",
    "# Value count\n",
    "# print(df.var.value_counts())\n",
    "\n",
    "# Sort a variable values by ascending order\n",
    "# print(df.var.sort_values())"
   ]
  },
  {
   "cell_type": "markdown",
   "metadata": {},
   "source": [
    "### 2.2. Variable iterations"
   ]
  },
  {
   "cell_type": "code",
   "execution_count": 23,
   "metadata": {},
   "outputs": [
    {
     "name": "stdout",
     "output_type": "stream",
     "text": [
      "age            54.433333\n",
      "pression      131.344444\n",
      "cholester     249.659259\n",
      "taux_max      149.677778\n",
      "depression     10.500000\n",
      "pic             1.585185\n",
      "dtype: float64\n"
     ]
    }
   ],
   "source": [
    "import pandas\n",
    "\n",
    "# File loading\n",
    "df = pandas.read_table(\"your_file.txt\", sep ='\\t',  header=0)\n",
    "\n",
    "# Call back\n",
    "def operation(x):\n",
    "    return(x.mean())\n",
    "\n",
    "# Function called on all Data Frame columns\n",
    "# axis=0 ==> each column is transmitted to the operation() method\n",
    "# select_dtype() excludes non digital variables\n",
    "print(df.select_dtypes(exclude=['object']).apply(operation, axis=0))"
   ]
  },
  {
   "cell_type": "markdown",
   "metadata": {},
   "source": [
    "## 3. Indexes in Data Frames\n"
   ]
  },
  {
   "cell_type": "code",
   "execution_count": 24,
   "metadata": {},
   "outputs": [
    {
     "name": "stdout",
     "output_type": "stream",
     "text": [
      "70\n"
     ]
    }
   ],
   "source": [
    "import pandas\n",
    "\n",
    "# File loading\n",
    "df = pandas.read_table(\"your_file.txt\", sep ='\\t',  header=0)\n",
    "\n",
    "# (0,0) value\n",
    "df.iloc[0,0]\n",
    "\n",
    "# First 5 values of all columns\n",
    "# lines ==> 0:5 (5 excluded)\n",
    "# columns ==> : (all columns)\n",
    "df.iloc[0:5,:]\n",
    "\n",
    "# 5 last lines\n",
    "df.iloc[-5:,:]\n",
    "\n",
    "# 5 first lines & 2 first columns\n",
    "df.iloc[0:5,0:2]\n",
    "\n",
    "# 5 first lines & columns 0,1,4\n",
    "df.iloc[0:5,[0,1,4]]"
   ]
  },
  {
   "cell_type": "markdown",
   "metadata": {},
   "source": [
    "## 4. Restrictions using conditions - requests"
   ]
  },
  {
   "cell_type": "code",
   "execution_count": 33,
   "metadata": {},
   "outputs": [
    {
     "data": {
      "text/html": [
       "<div>\n",
       "<table border=\"1\" class=\"dataframe\">\n",
       "  <thead>\n",
       "    <tr style=\"text-align: right;\">\n",
       "      <th></th>\n",
       "      <th>age</th>\n",
       "      <th>sexe</th>\n",
       "      <th>type_douleur</th>\n",
       "      <th>pression</th>\n",
       "      <th>cholester</th>\n",
       "      <th>sucre</th>\n",
       "      <th>electro</th>\n",
       "      <th>taux_max</th>\n",
       "      <th>angine</th>\n",
       "      <th>depression</th>\n",
       "      <th>pic</th>\n",
       "      <th>vaisseau</th>\n",
       "      <th>coeur</th>\n",
       "    </tr>\n",
       "  </thead>\n",
       "  <tbody>\n",
       "    <tr>\n",
       "      <th>2</th>\n",
       "      <td>57</td>\n",
       "      <td>masculin</td>\n",
       "      <td>B</td>\n",
       "      <td>124</td>\n",
       "      <td>261</td>\n",
       "      <td>A</td>\n",
       "      <td>A</td>\n",
       "      <td>141</td>\n",
       "      <td>non</td>\n",
       "      <td>3</td>\n",
       "      <td>1</td>\n",
       "      <td>A</td>\n",
       "      <td>presence</td>\n",
       "    </tr>\n",
       "    <tr>\n",
       "      <th>4</th>\n",
       "      <td>74</td>\n",
       "      <td>feminin</td>\n",
       "      <td>B</td>\n",
       "      <td>120</td>\n",
       "      <td>269</td>\n",
       "      <td>A</td>\n",
       "      <td>C</td>\n",
       "      <td>121</td>\n",
       "      <td>oui</td>\n",
       "      <td>2</td>\n",
       "      <td>1</td>\n",
       "      <td>B</td>\n",
       "      <td>absence</td>\n",
       "    </tr>\n",
       "    <tr>\n",
       "      <th>13</th>\n",
       "      <td>61</td>\n",
       "      <td>masculin</td>\n",
       "      <td>A</td>\n",
       "      <td>134</td>\n",
       "      <td>234</td>\n",
       "      <td>A</td>\n",
       "      <td>A</td>\n",
       "      <td>145</td>\n",
       "      <td>non</td>\n",
       "      <td>26</td>\n",
       "      <td>2</td>\n",
       "      <td>C</td>\n",
       "      <td>presence</td>\n",
       "    </tr>\n",
       "    <tr>\n",
       "      <th>18</th>\n",
       "      <td>64</td>\n",
       "      <td>masculin</td>\n",
       "      <td>A</td>\n",
       "      <td>110</td>\n",
       "      <td>211</td>\n",
       "      <td>A</td>\n",
       "      <td>C</td>\n",
       "      <td>144</td>\n",
       "      <td>oui</td>\n",
       "      <td>18</td>\n",
       "      <td>2</td>\n",
       "      <td>A</td>\n",
       "      <td>absence</td>\n",
       "    </tr>\n",
       "    <tr>\n",
       "      <th>19</th>\n",
       "      <td>40</td>\n",
       "      <td>masculin</td>\n",
       "      <td>A</td>\n",
       "      <td>140</td>\n",
       "      <td>199</td>\n",
       "      <td>A</td>\n",
       "      <td>A</td>\n",
       "      <td>178</td>\n",
       "      <td>oui</td>\n",
       "      <td>14</td>\n",
       "      <td>1</td>\n",
       "      <td>A</td>\n",
       "      <td>absence</td>\n",
       "    </tr>\n",
       "    <tr>\n",
       "      <th>...</th>\n",
       "      <td>...</td>\n",
       "      <td>...</td>\n",
       "      <td>...</td>\n",
       "      <td>...</td>\n",
       "      <td>...</td>\n",
       "      <td>...</td>\n",
       "      <td>...</td>\n",
       "      <td>...</td>\n",
       "      <td>...</td>\n",
       "      <td>...</td>\n",
       "      <td>...</td>\n",
       "      <td>...</td>\n",
       "      <td>...</td>\n",
       "    </tr>\n",
       "    <tr>\n",
       "      <th>262</th>\n",
       "      <td>58</td>\n",
       "      <td>masculin</td>\n",
       "      <td>B</td>\n",
       "      <td>120</td>\n",
       "      <td>284</td>\n",
       "      <td>A</td>\n",
       "      <td>C</td>\n",
       "      <td>160</td>\n",
       "      <td>non</td>\n",
       "      <td>18</td>\n",
       "      <td>2</td>\n",
       "      <td>A</td>\n",
       "      <td>presence</td>\n",
       "    </tr>\n",
       "    <tr>\n",
       "      <th>263</th>\n",
       "      <td>49</td>\n",
       "      <td>masculin</td>\n",
       "      <td>B</td>\n",
       "      <td>130</td>\n",
       "      <td>266</td>\n",
       "      <td>A</td>\n",
       "      <td>A</td>\n",
       "      <td>171</td>\n",
       "      <td>non</td>\n",
       "      <td>6</td>\n",
       "      <td>1</td>\n",
       "      <td>A</td>\n",
       "      <td>absence</td>\n",
       "    </tr>\n",
       "    <tr>\n",
       "      <th>264</th>\n",
       "      <td>48</td>\n",
       "      <td>masculin</td>\n",
       "      <td>B</td>\n",
       "      <td>110</td>\n",
       "      <td>229</td>\n",
       "      <td>A</td>\n",
       "      <td>A</td>\n",
       "      <td>168</td>\n",
       "      <td>non</td>\n",
       "      <td>10</td>\n",
       "      <td>3</td>\n",
       "      <td>A</td>\n",
       "      <td>presence</td>\n",
       "    </tr>\n",
       "    <tr>\n",
       "      <th>266</th>\n",
       "      <td>44</td>\n",
       "      <td>masculin</td>\n",
       "      <td>B</td>\n",
       "      <td>120</td>\n",
       "      <td>263</td>\n",
       "      <td>A</td>\n",
       "      <td>A</td>\n",
       "      <td>173</td>\n",
       "      <td>non</td>\n",
       "      <td>0</td>\n",
       "      <td>1</td>\n",
       "      <td>A</td>\n",
       "      <td>absence</td>\n",
       "    </tr>\n",
       "    <tr>\n",
       "      <th>267</th>\n",
       "      <td>56</td>\n",
       "      <td>feminin</td>\n",
       "      <td>B</td>\n",
       "      <td>140</td>\n",
       "      <td>294</td>\n",
       "      <td>A</td>\n",
       "      <td>C</td>\n",
       "      <td>153</td>\n",
       "      <td>non</td>\n",
       "      <td>13</td>\n",
       "      <td>2</td>\n",
       "      <td>A</td>\n",
       "      <td>absence</td>\n",
       "    </tr>\n",
       "  </tbody>\n",
       "</table>\n",
       "<p>62 rows × 13 columns</p>\n",
       "</div>"
      ],
      "text/plain": [
       "     age      sexe type_douleur  pression  cholester sucre electro  taux_max  \\\n",
       "2     57  masculin            B       124        261     A       A       141   \n",
       "4     74   feminin            B       120        269     A       C       121   \n",
       "13    61  masculin            A       134        234     A       A       145   \n",
       "18    64  masculin            A       110        211     A       C       144   \n",
       "19    40  masculin            A       140        199     A       A       178   \n",
       "..   ...       ...          ...       ...        ...   ...     ...       ...   \n",
       "262   58  masculin            B       120        284     A       C       160   \n",
       "263   49  masculin            B       130        266     A       A       171   \n",
       "264   48  masculin            B       110        229     A       A       168   \n",
       "266   44  masculin            B       120        263     A       A       173   \n",
       "267   56   feminin            B       140        294     A       C       153   \n",
       "\n",
       "    angine  depression  pic vaisseau     coeur  \n",
       "2      non           3    1        A  presence  \n",
       "4      oui           2    1        B   absence  \n",
       "13     non          26    2        C  presence  \n",
       "18     oui          18    2        A   absence  \n",
       "19     oui          14    1        A   absence  \n",
       "..     ...         ...  ...      ...       ...  \n",
       "262    non          18    2        A  presence  \n",
       "263    non           6    1        A   absence  \n",
       "264    non          10    3        A  presence  \n",
       "266    non           0    1        A   absence  \n",
       "267    non          13    2        A   absence  \n",
       "\n",
       "[62 rows x 13 columns]"
      ]
     },
     "execution_count": 33,
     "metadata": {},
     "output_type": "execute_result"
    }
   ],
   "source": [
    "import pandas\n",
    "\n",
    "# File loading\n",
    "df = pandas.read_table(\"your_file.txt\", sep ='\\t',  header=0)\n",
    "\n",
    "# Value set of the same variable : usage of isin()\n",
    "df.loc[df['value_set'].isin(['A','B']), :]\n",
    "\n",
    "# Using conditions and logical elements\n",
    "df.loc[(df['value_set']==\"A\") & (df['vaue_set2']==\"B\")]\n",
    "# & == AND, | == OR, ~ == !\n"
   ]
  },
  {
   "cell_type": "markdown",
   "metadata": {},
   "source": [
    "## 5. Crosstab"
   ]
  },
  {
   "cell_type": "code",
   "execution_count": 37,
   "metadata": {},
   "outputs": [
    {
     "data": {
      "text/html": [
       "<div>\n",
       "<table border=\"1\" class=\"dataframe\">\n",
       "  <thead>\n",
       "    <tr style=\"text-align: right;\">\n",
       "      <th>coeur</th>\n",
       "      <th>absence</th>\n",
       "      <th>presence</th>\n",
       "    </tr>\n",
       "    <tr>\n",
       "      <th>sexe</th>\n",
       "      <th></th>\n",
       "      <th></th>\n",
       "    </tr>\n",
       "  </thead>\n",
       "  <tbody>\n",
       "    <tr>\n",
       "      <th>feminin</th>\n",
       "      <td>67</td>\n",
       "      <td>20</td>\n",
       "    </tr>\n",
       "    <tr>\n",
       "      <th>masculin</th>\n",
       "      <td>83</td>\n",
       "      <td>100</td>\n",
       "    </tr>\n",
       "  </tbody>\n",
       "</table>\n",
       "</div>"
      ],
      "text/plain": [
       "coeur     absence  presence\n",
       "sexe                       \n",
       "feminin        67        20\n",
       "masculin       83       100"
      ]
     },
     "execution_count": 37,
     "metadata": {},
     "output_type": "execute_result"
    }
   ],
   "source": [
    "import pandas\n",
    "\n",
    "# File loading\n",
    "df = pandas.read_table(\"your_file.txt\", sep ='\\t',  header=0)\n",
    "\n",
    "# Crosstabing\n",
    "pandas.crosstab(df['var1'], df['var2'])\n",
    "\n",
    "# Normalized\n",
    "pandas.crosstab(df['var1'], df['var2'], normalize='index')\n",
    "\n",
    "# group by\n",
    "g = df.groupby('thing')\n",
    "\n",
    "# sub-DF dimensions\n",
    "print(g.get_group('thing').shape)"
   ]
  },
  {
   "cell_type": "markdown",
   "metadata": {},
   "source": [
    "## 6. Computed values construction"
   ]
  },
  {
   "cell_type": "code",
   "execution_count": 48,
   "metadata": {},
   "outputs": [
    {
     "name": "stdout",
     "output_type": "stream",
     "text": [
      "0      463.085981\n",
      "1      672.750819\n",
      "2      570.070229\n",
      "3      436.682724\n",
      "4      520.791876\n",
      "          ...    \n",
      "265    640.101482\n",
      "266    654.664807\n",
      "267    615.878809\n",
      "268    598.371588\n",
      "269    454.106803\n",
      "dtype: float64\n"
     ]
    }
   ],
   "source": [
    "import numpy\n",
    "import pandas\n",
    "\n",
    "# File loading\n",
    "df = pandas.read_table(\"your_file.txt\", sep ='\\t',  header=0)\n",
    "\n",
    "print(df['var'] * numpy.log(df['var']))\n",
    "\n",
    "# DataFrame concat\n",
    "print(pandas.concat([df, 'var'], axis=1).shape)"
   ]
  },
  {
   "cell_type": "markdown",
   "metadata": {},
   "source": [
    "## 7. Graphs"
   ]
  },
  {
   "cell_type": "code",
   "execution_count": 52,
   "metadata": {
    "collapsed": true
   },
   "outputs": [],
   "source": [
    "import matplotlib.pyplot as plt\n",
    "import pandas\n",
    "\n",
    "# File loading\n",
    "df = pandas.read_table(\"your_file.txt\", sep ='\\t',  header=0)\n",
    "\n",
    "# histogram\n",
    "df.hist(column='var', by='var2')\n",
    "\n",
    "# density plot\n",
    "# df['var'].plot.kde()\n",
    "\n",
    "# comparaison des distributions avec boxplot\n",
    "# central value of the graph = median\n",
    "# edges of the rectangle = quartiles \n",
    "# ends of the whiskers are calculated using 1.5 times the interquartile range \n",
    "# df.boxplot(column='var', by='var2')\n",
    "\n",
    "# scatterplot\n",
    "# df.plot.scatter(x='var', y='var2', c='var3')\n",
    "\n",
    "# hexbin\n",
    "# df.plot.hexbin(x='var', y='var2', gridsize=25)\n",
    "# df.plot.hexbin(x='var', y='var2', C='var3', reduce_C_function=numpy.mean, gridsize=25)\n",
    "\n",
    "# pie chart\n",
    "# df['var'].value_counts().plot.pie()"
   ]
  },
  {
   "cell_type": "markdown",
   "metadata": {},
   "source": [
    "# Vectors & matrices using Numpy"
   ]
  },
  {
   "cell_type": "markdown",
   "metadata": {},
   "source": [
    "## 1. Creating a vector"
   ]
  },
  {
   "cell_type": "markdown",
   "metadata": {},
   "source": [
    "### 1.1. Via manual input"
   ]
  },
  {
   "cell_type": "code",
   "execution_count": null,
   "metadata": {},
   "outputs": [],
   "source": [
    "import numpy as np\n",
    "\n",
    "# Array creation through manual input\n",
    "a = np.array([1.2, 2.5, 3.2, 1.8])\n",
    "\n",
    "# Data type\n",
    "a.dtype\n",
    "\n",
    "# number of  dimensions\n",
    "a.ndim\n",
    "\n",
    "# number of lines & columns\n",
    "a.shape\n",
    "\n",
    "# total amount of values\n",
    "a.size\n",
    "\n",
    "# Forcing the type\n",
    "b = np.array([1,2,4], dtype=float)\n",
    "d = np.array([{\"A\":(45, 200)}, {\"B\":(34, 150)}])"
   ]
  },
  {
   "cell_type": "markdown",
   "metadata": {},
   "source": [
    "### 1.2. Creating value sequences"
   ]
  },
  {
   "cell_type": "code",
   "execution_count": null,
   "metadata": {},
   "outputs": [],
   "source": [
    "import numpy as np\n",
    "\n",
    "# arithmetic progression\n",
    "a = np.arange(start=0, stop=10, step=1)\n",
    "\n",
    "# only made of 1\n",
    "a = np.ones(shape=5)\n",
    "\n",
    "# only made of fill_value\n",
    "a = np.full(shape=5, fill_value=3.2)\n",
    "\n",
    "# from a file\n",
    "a = np.loadtxt(\"file.txt\", dtype=float)"
   ]
  },
  {
   "cell_type": "markdown",
   "metadata": {},
   "source": [
    "## 2. Extracting values"
   ]
  },
  {
   "cell_type": "code",
   "execution_count": null,
   "metadata": {},
   "outputs": [],
   "source": [
    "import numpy as np \n",
    "\n",
    "v = np.array([1.2, 7.4, 4.2, 8.5, 6.3])\n",
    "\n",
    "# extraction through booleans\n",
    "b = np.array([False, True, False, True, False], dtype=bool)\n",
    "v[b]\n",
    "\n",
    "# condition \n",
    "v[v<7]\n",
    "\n",
    "# using a boolean vector\n",
    "b = v<7\n",
    "\n",
    "# basics\n",
    "np.max(v)\n",
    "np.argmax(v)\n",
    "np.sort(v)\n",
    "np.argsort(v)\n",
    "\n",
    "# distinctive values\n",
    "np.unique(np.array([1,2,2,2,1,1,2]))"
   ]
  },
  {
   "cell_type": "markdown",
   "metadata": {},
   "source": [
    "## 3. Vectors & algebra"
   ]
  },
  {
   "cell_type": "code",
   "execution_count": null,
   "metadata": {},
   "outputs": [],
   "source": [
    "import numpy as np \n",
    "\n",
    "v = np.array([1.2, 7.4, 4.2, 8.5, 6.3])\n",
    "\n",
    "# basics\n",
    "np.mean(v)\n",
    "np.median(v)\n",
    "np.var(v)\n",
    "np.std(v)\n",
    "np.sum(v)\n",
    "\n",
    "# percentile\n",
    "np.percentile(v, 50) \n",
    "\n",
    "# cumulative sum\n",
    "np.cumsum(v)\n",
    "\n",
    "# scalar product\n",
    "np.vdot(v, v[::-1])\n",
    "\n",
    "# vector norm\n",
    "np.linalg.norm(v)\n",
    "\n",
    "# through logic\n",
    "a = np.array([True,True,False,True],dtype=bool)\n",
    "b = np.array([True,False,True,False],dtype=bool)\n",
    "\n",
    "# basics\n",
    "np.logical_and(a,b)\n",
    "np.logical_or(a,b)\n",
    "np.logical_not(a,b)\n",
    "np.logical_xor(a,b)\n",
    "\n",
    "# operations on sets\n",
    "x = np.array([1,2,5,7])\n",
    "y = np.array([2,4,6,1])\n",
    "\n",
    "# intersection\n",
    "np.intersect1d(x, y)\n",
    "\n",
    "# union\n",
    "np.union1d(x, y)\n",
    "\n",
    "# anything in x that isn't in y\n",
    "np.setdiff1d(x,y)"
   ]
  },
  {
   "cell_type": "markdown",
   "metadata": {},
   "source": [
    "## 4. Matrices"
   ]
  },
  {
   "cell_type": "code",
   "execution_count": null,
   "metadata": {},
   "outputs": [],
   "source": [
    "import numpy as np\n",
    "\n",
    "a = np.array([[1.2,2.5],[3.2, 1.8],[1.1,4.3]])\n",
    "\n",
    "# same basics as vectors\n",
    "type(a)\n",
    "a.dtype\n",
    "a.ndim\n",
    "a.shape\n",
    "a.size\n",
    "\n",
    "# arange() generatees a sequence of values\n",
    "# reshape() re-organises the data into lines & columns\n",
    "np.arange(0, 10).reshape(2, 5)\n",
    "\n",
    "# converting a vector into a matrix\n",
    "np.array([2.1,3.4,6.7,8.1,3.5,7.2]).shape\n",
    "\n",
    "# matrix with the same value\n",
    "np.full(shape=(2, 4), fill_value=0.1)\n",
    "\n",
    "# using a file\n",
    "np.loadtxt(\"file.txt\", delimiter=\"\\t\", dtype=float)\n",
    "\n",
    "# adding a line \n",
    "b = np.array([[4.1,2.6]])\n",
    "np.append(a, b, axis=0)\n",
    "\n",
    "# adding a column\n",
    "d = np.array([[7.8],[6.1],[5.4]])\n",
    "np.append(a, d, axis=1)\n",
    "\n",
    "# reshaping a matrix\n",
    "np.resize(a, new_shape=(2,3))"
   ]
  },
  {
   "cell_type": "markdown",
   "metadata": {},
   "source": [
    "## 5. Matrices & algebra"
   ]
  },
  {
   "cell_type": "code",
   "execution_count": null,
   "metadata": {},
   "outputs": [],
   "source": [
    "import numpy as np\n",
    "\n",
    "x = np.array([[1.2,2.5],[3.2,1.8],[1.1,4.3]])\n",
    "y = np.array([[2.1,0.8],[1.3,2.5]])\n",
    "\n",
    "# transposition\n",
    "np.transpose(x)\n",
    "\n",
    "# multiplication\n",
    "np.dot(x, y)\n",
    "\n",
    "# determinant\n",
    "np.linalg.det(y)\n",
    "\n",
    "# inversion\n",
    "np.linalg.inv(y)\n",
    "\n",
    "# solving linear system (y.a = z)\n",
    "z = np.array([1.7, 1.0])\n",
    "np.linalg.solve(y,z)\n",
    "\n",
    "# verifying a = y^(-1).z\n",
    "np.dot(np.linalg.inv(y), z)\n",
    "\n",
    "# symmetrical matrix using x^t.x\n",
    "s = np.dot(np.transpose(x), x)\n",
    "\n",
    "# Eigenvalues & eigenvectors\n",
    "np.linalg.eigh(s)"
   ]
  }
 ],
 "metadata": {
  "anaconda-cloud": {},
  "kernelspec": {
   "display_name": "Python 3 (ipykernel)",
   "language": "python",
   "name": "python3"
  },
  "language_info": {
   "codemirror_mode": {
    "name": "ipython",
    "version": 3
   },
   "file_extension": ".py",
   "mimetype": "text/x-python",
   "name": "python",
   "nbconvert_exporter": "python",
   "pygments_lexer": "ipython3",
   "version": "3.11.3"
  }
 },
 "nbformat": 4,
 "nbformat_minor": 2
}
